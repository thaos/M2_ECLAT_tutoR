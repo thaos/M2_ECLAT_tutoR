{
 "cells": [
  {
   "cell_type": "markdown",
   "metadata": {},
   "source": [
    "# R Crash Course - M2 ECLAT\n",
    "# Basics of R\n",
    "soulivanh.thao@gmail.com\n",
    "\n",
    "The aim of this course is to provide a basic introduction to R. This takes the forms of little exercices to solve on your own. The idea is not to memorize all the R commands but to be able to find and use the information in the R base cheatsheet provided. For those familiar with Python or Matlab, there is also a cheatsheet giving the correspondence between the commands of those programming language.  \n",
    "\n",
    "Thus, this crash course mainly consists of few exercices to make you use the cheatsheets and R.\n",
    "\n",
    "The exercises are divided into the following parts:\n",
    "\n",
    "1 - the main data structures in R. \n",
    "\n",
    "2 - some control flow tools\n",
    "\n",
    "3 - basic plots\n",
    "\n",
    "# Credits:\n",
    "\n",
    "The R base cheatsheet was made by Mhairi McNeil(http://mhairihmcneill.com/).\n",
    "\n",
    "It can be found along with other interesting cheatsheets at https://www.rstudio.com/resources/cheatsheets/\n",
    "\n",
    "The R/Python/Matlab correspondance cheatsheet was made by Vidar Bronken Gundersen and can be found at http://mathesaurus.sf.net/\n",
    "\n",
    "\n",
    "# A few remarks: \n",
    "\n",
    "There are two assignment operators in R, = or <-. In general, we tend to use <-.\n",
    "\n",
    "Maybe the most important function in R is the help function! To get the help on a function in R :  help(\"function\") or ?function. \n",
    "\n",
    "But if you are stuck don't hesitate to ask for help! :)"
   ]
  },
  {
   "cell_type": "markdown",
   "metadata": {},
   "source": [
    "# I. Data structures\n",
    "\n",
    "There are 6 basic data types in R: integer, numeric, complex, logical, character and raw \n",
    "The main data structures in R are vector, matrix, array, list and data.frame and factor\n",
    "\n",
    "\n",
    "## vectors\n",
    "Beware! contrary to Python, indexes from vector, matrix, etc... start from 1 and not 0!\n",
    "the standard operator to create vectors:\n",
    "c to concatenate values into a vector\n",
    "other useful functions: seq and rep"
   ]
  },
  {
   "cell_type": "code",
   "execution_count": null,
   "metadata": {},
   "outputs": [],
   "source": [
    "# 1.1. Create the vector vect1 = (1, -5, 3.8, -0.1) with the function c\n"
   ]
  },
  {
   "cell_type": "code",
   "execution_count": null,
   "metadata": {},
   "outputs": [],
   "source": [
    "# 1.2. Compute the number of elements of vect1 with the function length\n"
   ]
  },
  {
   "cell_type": "code",
   "execution_count": null,
   "metadata": {},
   "outputs": [],
   "source": [
    "# 1.3. Create the vector vect2 = (2, 2, 2, 2) with the function rep.\n"
   ]
  },
  {
   "cell_type": "code",
   "execution_count": null,
   "metadata": {},
   "outputs": [],
   "source": [
    "# 1.4. Create the vector vect3 containing the sequence from 0 to 1 with a step of 0.1 with the function seq.\n"
   ]
  },
  {
   "cell_type": "markdown",
   "metadata": {},
   "source": [
    "**Remark**: when the sequence has a step of one, one case use the operator \":\". \n"
   ]
  },
  {
   "cell_type": "code",
   "execution_count": null,
   "metadata": {},
   "outputs": [],
   "source": [
    "# example:\n",
    "1:10 # sequence from 1 to 10"
   ]
  },
  {
   "cell_type": "code",
   "execution_count": null,
   "metadata": {},
   "outputs": [],
   "source": [
    "# 1.5.  Execute vect1 + vect2\n",
    "vect1 + vect2"
   ]
  },
  {
   "cell_type": "markdown",
   "metadata": {},
   "source": [
    "**Remark**:​ Addition operates elementwise. This is the case of a lot of mathematical operators on vectors.\n"
   ]
  },
  {
   "cell_type": "code",
   "execution_count": null,
   "metadata": {},
   "outputs": [],
   "source": [
    "# 1.6. What is happening when you execute vect4 <- vect1 + vect3 ? \n",
    "# What is the length of vect4? (example of recycling mechanism, be careful!)\n",
    "vect4 <- vect1 + vect3"
   ]
  },
  {
   "cell_type": "markdown",
   "metadata": {},
   "source": [
    "**Remark**: Recycling: when one vector is smaller than the other, the shorter one is completed using its own values. Its values are recycled."
   ]
  },
  {
   "cell_type": "code",
   "execution_count": null,
   "metadata": {},
   "outputs": [],
   "source": [
    "# 1.7. Multiply all the elements of vect4 by 2.\n"
   ]
  },
  {
   "cell_type": "code",
   "execution_count": null,
   "metadata": {},
   "outputs": [],
   "source": [
    "# 1.8. Compute the expenential of all the elements of vect4.\n"
   ]
  },
  {
   "cell_type": "code",
   "execution_count": null,
   "metadata": {},
   "outputs": [],
   "source": [
    "# 1.9. Extract the first element of vect4.\n"
   ]
  },
  {
   "cell_type": "code",
   "execution_count": null,
   "metadata": {},
   "outputs": [],
   "source": [
    "# 1.10. Extract the last element of vect4.\n"
   ]
  },
  {
   "cell_type": "code",
   "execution_count": null,
   "metadata": {},
   "outputs": [],
   "source": [
    "# 1.11. Extract all the negative values of vect4.\n"
   ]
  },
  {
   "cell_type": "code",
   "execution_count": null,
   "metadata": {},
   "outputs": [],
   "source": [
    "# 1.12. Give the position of all the negative values of vect4 with the function which.\n"
   ]
  },
  {
   "cell_type": "code",
   "execution_count": null,
   "metadata": {},
   "outputs": [],
   "source": [
    "# 1.13. Compute the sum of the negative values in vect4.\n"
   ]
  },
  {
   "cell_type": "code",
   "execution_count": null,
   "metadata": {},
   "outputs": [],
   "source": [
    "# 1.14. Compute the mean of all values in vect4.\n"
   ]
  },
  {
   "cell_type": "code",
   "execution_count": null,
   "metadata": {},
   "outputs": [],
   "source": [
    "# 1.15 Create vect5 as a copy of vect4. Replace all the values in vect5 strictly superior to 1 by their logarithm.\n"
   ]
  },
  {
   "cell_type": "markdown",
   "metadata": {},
   "source": [
    "## matrices\n",
    "A vector can be used to create a matrix. The vector values are used to fill the matrix. Matrix are by default filled by columns.\n"
   ]
  },
  {
   "cell_type": "code",
   "execution_count": null,
   "metadata": {},
   "outputs": [],
   "source": [
    "# Examples:\n",
    "mat1 <- matrix(1:20, ncol = 2, nrow = 10)\n",
    "matrix(1:20, ncol = 2) # R deduces by itself the numbers of rows\n",
    "matrix(1:20, nrow = 10) # R deduces by itself the numbers of columns\n",
    "matrix(1:10, ncol = 2, nrow = 10) # be careful of R recycling !\n",
    "dim(mat1)# show the dimensions of mat1"
   ]
  },
  {
   "cell_type": "code",
   "execution_count": null,
   "metadata": {},
   "outputs": [],
   "source": [
    "# 1.16. Extract from mat1 the element in row 2 and column 2\n"
   ]
  },
  {
   "cell_type": "code",
   "execution_count": null,
   "metadata": {},
   "outputs": [],
   "source": [
    "# 1.17. Extract from mat1 all the elements which values are between 6 and 11 \n",
    "# (Hint: the logical AND operator is & in R).\n"
   ]
  },
  {
   "cell_type": "code",
   "execution_count": null,
   "metadata": {},
   "outputs": [],
   "source": [
    "# 1.18. Give the position in mat1 of all the elements whose values are between 6 and 11 using the function which\n"
   ]
  },
  {
   "cell_type": "code",
   "execution_count": null,
   "metadata": {},
   "outputs": [],
   "source": [
    "# 1.19. Create mat2 as a copy of mat1. Replace in mat2 all values between 6 and 11 by 8.5.\n"
   ]
  },
  {
   "cell_type": "code",
   "execution_count": null,
   "metadata": {},
   "outputs": [],
   "source": [
    "# 1.20. Create using mat1 and the concatenation function cbind a matrix with 10 rows and 4 columns.\n"
   ]
  },
  {
   "cell_type": "code",
   "execution_count": null,
   "metadata": {},
   "outputs": [],
   "source": [
    "# 1.21. Create using mat1 and the concatenation function rbind a matrix with 30 rows and 2 columns.\n"
   ]
  },
  {
   "cell_type": "code",
   "execution_count": null,
   "metadata": {},
   "outputs": [],
   "source": [
    "# 1.22. Execute mat1 * mat1 \n",
    "# What does it do ?\n",
    "mat1 * mat1"
   ]
  },
  {
   "cell_type": "code",
   "execution_count": null,
   "metadata": {},
   "outputs": [],
   "source": [
    "# 1.23. Execute mat1 * 1:5 \n",
    "# What does it do ?\n",
    "mat1 * 1:5"
   ]
  },
  {
   "cell_type": "code",
   "execution_count": null,
   "metadata": {},
   "outputs": [],
   "source": [
    "# 1.24. Create a matrix mat3 with 10 rows and 10 columns with all values equal to 1\n"
   ]
  },
  {
   "cell_type": "code",
   "execution_count": null,
   "metadata": {},
   "outputs": [],
   "source": [
    "# 1.25. Do the matrix multiplication between mat1 and mat3"
   ]
  },
  {
   "cell_type": "markdown",
   "metadata": {},
   "source": [
    "## arrays\n",
    "Arrays are the extention of matrices for higher dimension. They work similarly"
   ]
  },
  {
   "cell_type": "code",
   "execution_count": null,
   "metadata": {},
   "outputs": [],
   "source": [
    "# Examples:\n",
    "arr1 <- array(1:24, dim = c(2, 3, 2, 2))\n",
    "dim(arr1)"
   ]
  },
  {
   "cell_type": "markdown",
   "metadata": {},
   "source": [
    "## lists\n",
    "list contains differents objects. Contrary to vectors, lists can contains objects of differents types."
   ]
  },
  {
   "cell_type": "code",
   "execution_count": null,
   "metadata": {},
   "outputs": [],
   "source": [
    "# Examples:\n",
    "list1 <- list(\"a\", 2, FALSE) # a list with a character, a numeric and a logical variables.\n",
    "list2 <- list(var1 = \"a\", var2 = 2, var3 = FALSE) # we can give a name to each elements of the list."
   ]
  },
  {
   "cell_type": "code",
   "execution_count": null,
   "metadata": {},
   "outputs": [],
   "source": [
    "# 1.26. Extract the second element of list2 by its position."
   ]
  },
  {
   "cell_type": "code",
   "execution_count": null,
   "metadata": {},
   "outputs": [],
   "source": [
    "# 1.27. Extract the second element of list2 by its name."
   ]
  },
  {
   "cell_type": "markdown",
   "metadata": {},
   "source": [
    "# data.frames\n",
    "A data.frame is a list of vectors of the same length but the type of each vector can be different.\n",
    "It is the R equivalent of a data table."
   ]
  },
  {
   "cell_type": "code",
   "execution_count": null,
   "metadata": {},
   "outputs": [],
   "source": [
    "# Example:\n",
    "df1 <- data.frame(height = c(170, 181, 165, 155), sex = rep(c(\"male\", \"female\"), 2))"
   ]
  },
  {
   "cell_type": "code",
   "execution_count": null,
   "metadata": {},
   "outputs": [],
   "source": [
    "# 1.28. Extract the third row of df1."
   ]
  },
  {
   "cell_type": "code",
   "execution_count": null,
   "metadata": {},
   "outputs": [],
   "source": [
    "# 1.29. Extract all but the third row of df1."
   ]
  },
  {
   "cell_type": "code",
   "execution_count": null,
   "metadata": {},
   "outputs": [],
   "source": [
    "# 1.30. Extract the second column of df1 by its position."
   ]
  },
  {
   "cell_type": "code",
   "execution_count": null,
   "metadata": {},
   "outputs": [],
   "source": [
    "# 1.31. Extract the second column of df1 by its name."
   ]
  },
  {
   "cell_type": "markdown",
   "metadata": {},
   "source": [
    "**Remark**: the str function the structure of an R object"
   ]
  },
  {
   "cell_type": "code",
   "execution_count": null,
   "metadata": {},
   "outputs": [],
   "source": [
    "str(df1)\n"
   ]
  },
  {
   "cell_type": "markdown",
   "metadata": {},
   "source": [
    "**Beware**: we see that by default, the function data.frame converts strings into factors. To keep characters as characters used the argument stringsAsFactors = FALSE when creating the data.frame"
   ]
  },
  {
   "cell_type": "markdown",
   "metadata": {},
   "source": [
    "**Remark**: the summary function prints summary statistics of the variables in the data.frame"
   ]
  },
  {
   "cell_type": "code",
   "execution_count": null,
   "metadata": {},
   "outputs": [],
   "source": [
    "summary(df1)"
   ]
  },
  {
   "cell_type": "markdown",
   "metadata": {},
   "source": [
    "# II. Control flow tools\n",
    "\n",
    "for, while and repeats loops, if-else statements and functions \n",
    "\n",
    "**Remarks**: in R, when possible, we prefer to use matrix operations when possible, e.g. to multiply all elements of a vector by two, we prefer to do"
   ]
  },
  {
   "cell_type": "code",
   "execution_count": null,
   "metadata": {},
   "outputs": [],
   "source": [
    "vect <- 1:10\n",
    "vect <- vect * 2"
   ]
  },
  {
   "cell_type": "markdown",
   "metadata": {},
   "source": [
    "rather than "
   ]
  },
  {
   "cell_type": "code",
   "execution_count": null,
   "metadata": {},
   "outputs": [],
   "source": [
    "vect <- 1:10\n",
    "for (i in seq_along(vect)) {\n",
    "    vect[i] <- 2 * vect[i]\n",
    "}"
   ]
  },
  {
   "cell_type": "code",
   "execution_count": null,
   "metadata": {},
   "outputs": [],
   "source": [
    "# 2.1. Compute and print the first the numbers of the Fibonacci sequences. \n",
    "# See https://en.wikipedia.org/wiki/Fibonacci_number for the definition.\n"
   ]
  },
  {
   "cell_type": "code",
   "execution_count": null,
   "metadata": {},
   "outputs": [],
   "source": [
    "# 2.2. Use the function runif to generate a random number between 0 and 1 and \n",
    "# print \"greater than 0.5\" if it is greater than 0.5 and \"lower or equal to 0.5\" otherwise.\n"
   ]
  },
  {
   "cell_type": "code",
   "execution_count": null,
   "metadata": {},
   "outputs": [],
   "source": [
    "# 2.3. Use the function runif to generate a vector of 10 random numbers between 0 and 1 and \n",
    "# print \"I found one!\" if at least one value is greater than 0.5 and \"I found none\" otherwise."
   ]
  },
  {
   "cell_type": "code",
   "execution_count": null,
   "metadata": {},
   "outputs": [],
   "source": [
    "# 2.3 Create a function that take as argument a number, n, and returs a vector with the n first number of the  Fibonacci sequences. "
   ]
  },
  {
   "cell_type": "markdown",
   "metadata": {},
   "source": [
    "# III. Basic plots\n",
    "scatterplots, histograms, boxplots"
   ]
  },
  {
   "cell_type": "code",
   "execution_count": null,
   "metadata": {
    "scrolled": false
   },
   "outputs": [],
   "source": [
    "data(cars) # loads the cars datasets in memory\n",
    "head(cars) # shows the first rows of the cars data.frame\n",
    "\n",
    "# 3.1.  use the function plot to produce a scatterplot of the stopping distance as a function of the speed.\n",
    "\n",
    "\n",
    "# linear regression\n",
    "lm_fit <- lm(dist ~ speed, data = cars)\n",
    "coefficients <- coef(lm_fit)\n",
    "intercept <- coefficients[1]\n",
    "slope <- coefficients[2]\n",
    "intercept\n",
    "slope\n",
    "\n",
    "# 3.2. use the function abline to add a line in red, \n",
    "# the intercept and the slope of which are respectively defined by the variable intercept and slope.\n",
    "\n",
    "\n",
    "\n",
    "# polynomial regression of order 2\n",
    "lm_fit <- lm(dist ~ speed + I(speed^2), data = cars)\n",
    "coefficients <- coef(lm_fit)\n",
    "\n",
    "# 3.3. use the function curve add in the plot in blue the function defined as  \n",
    "# f(x) = coefficients[1] + coefficients[2] * x + coefficients[3] * x^2.\n",
    "# Hint: the option add = true in tu curve function to add a line to the existing plot.\n",
    "      \n",
    "\n"
   ]
  },
  {
   "cell_type": "code",
   "execution_count": null,
   "metadata": {},
   "outputs": [],
   "source": [
    "data(iris) # loads the iris datasets in memory\n",
    "head(iris) # shows the first rows of the cars data.frame"
   ]
  },
  {
   "cell_type": "code",
   "execution_count": null,
   "metadata": {},
   "outputs": [],
   "source": [
    "# 3.4. use the function histogram to visualize the distribution of Petal.Length."
   ]
  },
  {
   "cell_type": "code",
   "execution_count": null,
   "metadata": {},
   "outputs": [],
   "source": [
    "# 3.5. use the function boxplot to summarize the distribution of Petal.Length."
   ]
  },
  {
   "cell_type": "code",
   "execution_count": null,
   "metadata": {},
   "outputs": [],
   "source": [
    "# 3.6. use the function boxplot to the distribution of Petal.Length among different species."
   ]
  },
  {
   "cell_type": "code",
   "execution_count": null,
   "metadata": {},
   "outputs": [],
   "source": [
    "# 3.7. Make a scatter plot of the width of the sepal as a function of its width and \n",
    "# use a different colors and symbol to represent each specie.\n",
    "# Use the function legend to add a legend that explains the correspondence between the symbols and the species."
   ]
  },
  {
   "cell_type": "markdown",
   "metadata": {},
   "source": [
    "## Maps for data on grid\n",
    "To create maps, we will use the packages fields and maps.\n",
    "If not installed yet, use the fonction install.packages to install them."
   ]
  },
  {
   "cell_type": "code",
   "execution_count": null,
   "metadata": {},
   "outputs": [],
   "source": [
    "# loading the packages\n",
    "library(fields)\n",
    "library(maps)\n",
    "\n",
    "# loading the data\n",
    "data(COmonthlyMet)\n",
    "\n",
    "# CO.elevGrid contains elevation data over the Colorado\n",
    "# It is a list containing 3 elements\n",
    "# x, a vector of longitudes\n",
    "# y, a vector of latitudes\n",
    "# z, a matrix of elevations\n",
    "str(CO.elevGrid)"
   ]
  },
  {
   "cell_type": "code",
   "execution_count": null,
   "metadata": {},
   "outputs": [],
   "source": [
    "# 3.7. Use the fonction image.plot du package fields to plot a map of elevation.\n",
    "\n",
    "\n",
    "# 3.8. Add the US state boundaries to the plot with the fonction map from the package map.\n",
    "\n",
    "\n",
    "# 3.9 Add the major cities of Colorado (population over 200 000) with the funtion map.cities from the package map.\n",
    "\n",
    "\n"
   ]
  },
  {
   "cell_type": "code",
   "execution_count": null,
   "metadata": {},
   "outputs": [],
   "source": [
    "# 3.10 Make the plot as nice as possible.\n",
    "# Pay attention to colorscale, text size, simbols, colors, axis and labels."
   ]
  }
 ],
 "metadata": {
  "kernelspec": {
   "display_name": "R",
   "language": "R",
   "name": "ir"
  },
  "language_info": {
   "codemirror_mode": "r",
   "file_extension": ".r",
   "mimetype": "text/x-r-source",
   "name": "R",
   "pygments_lexer": "r",
   "version": "4.0.3"
  }
 },
 "nbformat": 4,
 "nbformat_minor": 4
}
