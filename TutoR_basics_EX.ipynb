{
 "cells": [
  {
   "cell_type": "markdown",
   "metadata": {},
   "source": [
    "# R Crash Course - M2 ECLAT\n",
    "# Basics of R\n",
    "soulivanh.thao@gmail.com\n",
    "\n",
    "The aim of this course is to provide a basic introduction to R. This takes the forms of little exercices to solve on your own. The idea is not to memorize all the R commands but to be able to find and use the information in the R base cheatsheet provided. For those familiar with Python or Matlab, there is also a cheatsheet giving the correspondence between the commands of those programming language.  \n",
    "\n",
    "Thus, this crash course mainly consists of few exercices to make you use the cheatsheets and R.\n",
    "\n",
    "The exercises are divided into the following parts:\n",
    "\n",
    "1 - the main data structures in R. \n",
    "\n",
    "2 - some control flow tools\n",
    "\n",
    "3 - basic plots\n",
    "\n",
    "# Credits:\n",
    "\n",
    "The R base cheatsheet was made by Mhairi McNeil(http://mhairihmcneill.com/).\n",
    "\n",
    "It can be found along with other interesting cheatsheets at https://www.rstudio.com/resources/cheatsheets/\n",
    "\n",
    "The R/Python/Matlab correspondance cheatsheet was made by Vidar Bronken Gundersen and can be found at http://mathesaurus.sf.net/\n",
    "\n",
    "\n",
    "# A few remarks: \n",
    "\n",
    "There are two assignment operators in R, = or <-. In general, we tend to use <-.\n",
    "\n",
    "Maybe the most important function in R is the help function! To get the help on a function in R :  help(\"function\") or ?function. \n",
    "\n",
    "But if you are stuck don't hesitate to ask for help! :)"
   ]
  },
  {
   "cell_type": "markdown",
   "metadata": {},
   "source": [
    "# I. Data structures\n",
    "\n",
    "There are 6 basic data types in R: integer, numeric, complex, logical, character and raw \n",
    "The main data structures in R are vector, matrix, array, list and data.frame and factor\n",
    "\n",
    "\n",
    "## vectors\n",
    "Beware! contrary to Python, indexes from vector, matrix, etc... start from 1 and not 0!\n",
    "the standard operator to create vectors:\n",
    "c to concatenate values into a vector\n",
    "other useful functions: seq and rep"
   ]
  },
  {
   "cell_type": "code",
   "execution_count": 1,
   "metadata": {},
   "outputs": [],
   "source": [
    "# 1.1. Create the vector vect1 = (1, -5, 3.8, -0.1) with the function c\n"
   ]
  },
  {
   "cell_type": "code",
   "execution_count": 2,
   "metadata": {},
   "outputs": [],
   "source": [
    "# 1.2. Compute the number of elements of vect1 with the function length\n"
   ]
  },
  {
   "cell_type": "code",
   "execution_count": 3,
   "metadata": {},
   "outputs": [],
   "source": [
    "# 1.3. Create the vector vect2 = (2, 2, 2, 2) with the function rep.\n"
   ]
  },
  {
   "cell_type": "code",
   "execution_count": 4,
   "metadata": {},
   "outputs": [],
   "source": [
    "# 1.4. Create the vector vect3 containing the sequence from 0 to 1 with a step of 0.1 with the function seq.\n"
   ]
  },
  {
   "cell_type": "markdown",
   "metadata": {},
   "source": [
    "**Remark**: when the sequence has a step of one, one case use the operator \":\". \n"
   ]
  },
  {
   "cell_type": "code",
   "execution_count": 5,
   "metadata": {},
   "outputs": [
    {
     "data": {
      "text/html": [
       "<style>\n",
       ".list-inline {list-style: none; margin:0; padding: 0}\n",
       ".list-inline>li {display: inline-block}\n",
       ".list-inline>li:not(:last-child)::after {content: \"\\00b7\"; padding: 0 .5ex}\n",
       "</style>\n",
       "<ol class=list-inline><li>1</li><li>2</li><li>3</li><li>4</li><li>5</li><li>6</li><li>7</li><li>8</li><li>9</li><li>10</li></ol>\n"
      ],
      "text/latex": [
       "\\begin{enumerate*}\n",
       "\\item 1\n",
       "\\item 2\n",
       "\\item 3\n",
       "\\item 4\n",
       "\\item 5\n",
       "\\item 6\n",
       "\\item 7\n",
       "\\item 8\n",
       "\\item 9\n",
       "\\item 10\n",
       "\\end{enumerate*}\n"
      ],
      "text/markdown": [
       "1. 1\n",
       "2. 2\n",
       "3. 3\n",
       "4. 4\n",
       "5. 5\n",
       "6. 6\n",
       "7. 7\n",
       "8. 8\n",
       "9. 9\n",
       "10. 10\n",
       "\n",
       "\n"
      ],
      "text/plain": [
       " [1]  1  2  3  4  5  6  7  8  9 10"
      ]
     },
     "metadata": {},
     "output_type": "display_data"
    }
   ],
   "source": [
    "# example:\n",
    "1:10 # sequence from 1 to 10"
   ]
  },
  {
   "cell_type": "code",
   "execution_count": 6,
   "metadata": {},
   "outputs": [
    {
     "ename": "ERROR",
     "evalue": "Error in eval(expr, envir, enclos): object 'vect1' not found\n",
     "output_type": "error",
     "traceback": [
      "Error in eval(expr, envir, enclos): object 'vect1' not found\nTraceback:\n"
     ]
    }
   ],
   "source": [
    "# 1.5.  Execute vect1 + vect2\n",
    "vect1 + vect2"
   ]
  },
  {
   "cell_type": "markdown",
   "metadata": {},
   "source": [
    "**Remark**:​ Addition operates elementwise. This is the case of a lot of mathematical operators on vectors.\n"
   ]
  },
  {
   "cell_type": "code",
   "execution_count": null,
   "metadata": {},
   "outputs": [],
   "source": [
    "# 1.6. What is happening when you execute vect4 <- vect1 + vect3 ? \n",
    "# What is the length of vect4? (example of recycling mechanism, be careful!)\n",
    "vect4 <- vect1 + vect3"
   ]
  },
  {
   "cell_type": "markdown",
   "metadata": {},
   "source": [
    "**Remark**: Recycling: when one vector is smaller than the other, the shorter one is completed using its own values. Its values are recycled."
   ]
  },
  {
   "cell_type": "code",
   "execution_count": null,
   "metadata": {},
   "outputs": [],
   "source": [
    "# 1.7. Multiply all the elements of vect4 by 2.\n"
   ]
  },
  {
   "cell_type": "code",
   "execution_count": null,
   "metadata": {},
   "outputs": [],
   "source": [
    "# 1.8. Compute the expenential of all the elements of vect4.\n"
   ]
  },
  {
   "cell_type": "code",
   "execution_count": null,
   "metadata": {},
   "outputs": [],
   "source": [
    "# 1.9. Extract the first element of vect4.\n"
   ]
  },
  {
   "cell_type": "code",
   "execution_count": null,
   "metadata": {},
   "outputs": [],
   "source": [
    "# 1.10. Extract the last element of vect4.\n"
   ]
  },
  {
   "cell_type": "code",
   "execution_count": null,
   "metadata": {},
   "outputs": [],
   "source": [
    "# 1.11. Extract all the negative values of vect4.\n"
   ]
  },
  {
   "cell_type": "code",
   "execution_count": null,
   "metadata": {},
   "outputs": [],
   "source": [
    "# 1.12. Give the position of all the negative values of vect4 with the function which.\n"
   ]
  },
  {
   "cell_type": "code",
   "execution_count": null,
   "metadata": {},
   "outputs": [],
   "source": [
    "# 1.13. Compute the sum of the negative values in vect4.\n"
   ]
  },
  {
   "cell_type": "code",
   "execution_count": null,
   "metadata": {},
   "outputs": [],
   "source": [
    "# 1.14. Compute the mean of all values in vect4.\n"
   ]
  },
  {
   "cell_type": "code",
   "execution_count": null,
   "metadata": {},
   "outputs": [],
   "source": [
    "# 1.15 Create vect5 as a copy of vect4. Replace all the values in vect5 strictly superior to 1 by their logarithm.\n"
   ]
  },
  {
   "cell_type": "markdown",
   "metadata": {},
   "source": [
    "## matrices\n",
    "A vector can be used to create a matrix. The vector values are used to fill the matrix. Matrix are by default filled by columns.\n"
   ]
  },
  {
   "cell_type": "code",
   "execution_count": null,
   "metadata": {},
   "outputs": [],
   "source": [
    "# Examples:\n",
    "mat1 <- matrix(1:20, ncol = 2, nrow = 10)\n",
    "matrix(1:20, ncol = 2) # R deduces by itself the numbers of rows\n",
    "matrix(1:20, nrow = 10) # R deduces by itself the numbers of columns\n",
    "matrix(1:10, ncol = 2, nrow = 10) # be careful of R recycling !\n",
    "dim(mat1)# show the dimensions of mat1"
   ]
  },
  {
   "cell_type": "code",
   "execution_count": null,
   "metadata": {},
   "outputs": [],
   "source": [
    "# 1.16. Extract from mat1 the element in row 2 and column 2\n"
   ]
  },
  {
   "cell_type": "code",
   "execution_count": null,
   "metadata": {},
   "outputs": [],
   "source": [
    "# 1.17. Extract from mat1 all the elements which values are between 6 and 11 \n",
    "# (Hint: the logical AND operator is & in R).\n"
   ]
  },
  {
   "cell_type": "code",
   "execution_count": null,
   "metadata": {},
   "outputs": [],
   "source": [
    "# 1.18. Give the position in mat1 of all the elements whose values are between 6 and 11 using the function which\n"
   ]
  },
  {
   "cell_type": "code",
   "execution_count": null,
   "metadata": {},
   "outputs": [],
   "source": [
    "# 1.19. Create mat2 as a copy of mat1. Replace in mat2 all values between 6 and 11 by 8.5.\n"
   ]
  },
  {
   "cell_type": "code",
   "execution_count": null,
   "metadata": {},
   "outputs": [],
   "source": [
    "# 1.20. Create using mat1 and the concatenation function cbind a matrix with 10 rows and 4 columns.\n"
   ]
  },
  {
   "cell_type": "code",
   "execution_count": null,
   "metadata": {},
   "outputs": [],
   "source": [
    "# 1.21. Create using mat1 and the concatenation function rbind a matrix with 30 rows and 2 columns.\n"
   ]
  },
  {
   "cell_type": "code",
   "execution_count": null,
   "metadata": {},
   "outputs": [],
   "source": [
    "# 1.22. Execute mat1 * mat1 \n",
    "# What does it do ?\n",
    "mat1 * mat1"
   ]
  },
  {
   "cell_type": "code",
   "execution_count": null,
   "metadata": {},
   "outputs": [],
   "source": [
    "# 1.23. Execute mat1 * 1:5 \n",
    "# What does it do ?\n",
    "mat1 * 1:5"
   ]
  },
  {
   "cell_type": "code",
   "execution_count": null,
   "metadata": {},
   "outputs": [],
   "source": [
    "# 1.24. Create a matrix mat3 with 10 rows and 10 columns with all values equal to 1\n"
   ]
  },
  {
   "cell_type": "code",
   "execution_count": null,
   "metadata": {},
   "outputs": [],
   "source": [
    "# 1.25. Do the matrix multiplication between mat1 and mat3"
   ]
  },
  {
   "cell_type": "markdown",
   "metadata": {},
   "source": [
    "## arrays\n",
    "Arrays are the extention of matrices for higher dimension. They work similarly"
   ]
  },
  {
   "cell_type": "code",
   "execution_count": null,
   "metadata": {},
   "outputs": [],
   "source": [
    "# Examples:\n",
    "arr1 <- array(1:24, dim = c(2, 3, 2, 2))\n",
    "dim(arr1)"
   ]
  },
  {
   "cell_type": "markdown",
   "metadata": {},
   "source": [
    "## lists\n",
    "list contains differents objects. Contrary to vectors, lists can contains objects of differents types."
   ]
  },
  {
   "cell_type": "code",
   "execution_count": null,
   "metadata": {},
   "outputs": [],
   "source": [
    "# Examples:\n",
    "list1 <- list(\"a\", 2, FALSE) # a list with a character, a numeric and a logical variables.\n",
    "list2 <- list(var1 = \"a\", var2 = 2, var3 = FALSE) # we can give a name to each elements of the list."
   ]
  },
  {
   "cell_type": "code",
   "execution_count": null,
   "metadata": {},
   "outputs": [],
   "source": [
    "# 1.26. Extract the second element of list2 by its position."
   ]
  },
  {
   "cell_type": "code",
   "execution_count": null,
   "metadata": {},
   "outputs": [],
   "source": [
    "# 1.27. Extract the second element of list2 by its name."
   ]
  },
  {
   "cell_type": "markdown",
   "metadata": {},
   "source": [
    "# data.frames\n",
    "A data.frame is a list of vectors of the same length but the type of each vector can be different.\n",
    "It is the R equivalent of a data table."
   ]
  },
  {
   "cell_type": "code",
   "execution_count": null,
   "metadata": {},
   "outputs": [],
   "source": [
    "# Example:\n",
    "df1 <- data.frame(height = c(170, 181, 165, 155), sex = rep(c(\"male\", \"female\"), 2))"
   ]
  },
  {
   "cell_type": "code",
   "execution_count": null,
   "metadata": {},
   "outputs": [],
   "source": [
    "# 1.28. Extract the third row of df1."
   ]
  },
  {
   "cell_type": "code",
   "execution_count": null,
   "metadata": {},
   "outputs": [],
   "source": [
    "# 1.29. Extract all but the third row of df1."
   ]
  },
  {
   "cell_type": "code",
   "execution_count": null,
   "metadata": {},
   "outputs": [],
   "source": [
    "# 1.30. Extract the second column of df1 by its position."
   ]
  },
  {
   "cell_type": "code",
   "execution_count": null,
   "metadata": {},
   "outputs": [],
   "source": [
    "# 1.31. Extract the second column of df1 by its name."
   ]
  },
  {
   "cell_type": "markdown",
   "metadata": {},
   "source": [
    "**Remark**: the str function the structure of an R object"
   ]
  },
  {
   "cell_type": "code",
   "execution_count": null,
   "metadata": {},
   "outputs": [],
   "source": [
    "str(df1)\n"
   ]
  },
  {
   "cell_type": "markdown",
   "metadata": {},
   "source": [
    "**Beware**: we see that by default, the function data.frame converts strings into factors. To keep characters as characters used the argument stringsAsFactors = FALSE when creating the data.frame"
   ]
  },
  {
   "cell_type": "markdown",
   "metadata": {},
   "source": [
    "**Remark**: the summary function prints summary statistics of the variables in the data.frame"
   ]
  },
  {
   "cell_type": "code",
   "execution_count": null,
   "metadata": {},
   "outputs": [],
   "source": [
    "summary(df1)"
   ]
  },
  {
   "cell_type": "markdown",
   "metadata": {},
   "source": [
    "# II. Control flow tools\n",
    "\n",
    "for, while and repeats loops, if-else statements and functions \n",
    "\n",
    "**Remarks**: in R, when possible, we prefer to use matrix operations when possible, e.g. to multiply all elements of a vector by two, we prefer to do"
   ]
  },
  {
   "cell_type": "code",
   "execution_count": 7,
   "metadata": {},
   "outputs": [],
   "source": [
    "vect <- 1:10\n",
    "vect <- vect * 2"
   ]
  },
  {
   "cell_type": "markdown",
   "metadata": {},
   "source": [
    "rather than "
   ]
  },
  {
   "cell_type": "code",
   "execution_count": 8,
   "metadata": {},
   "outputs": [],
   "source": [
    "vect <- 1:10\n",
    "for (i in seq_along(vect)) {\n",
    "    vect[i] <- 2 * vect[i]\n",
    "}"
   ]
  },
  {
   "cell_type": "code",
   "execution_count": null,
   "metadata": {},
   "outputs": [],
   "source": [
    "# 2.1. Compute and print the first the numbers of the Fibonacci sequences. \n",
    "# See https://en.wikipedia.org/wiki/Fibonacci_number for the definition.\n"
   ]
  },
  {
   "cell_type": "code",
   "execution_count": null,
   "metadata": {},
   "outputs": [],
   "source": [
    "# 2.2. Use the function runif to generate a random number between 0 and 1 and \n",
    "# print \"greater than 0.5\" if it is greater than 0.5 and \"lower or equal to 0.5\" otherwise.\n"
   ]
  },
  {
   "cell_type": "code",
   "execution_count": null,
   "metadata": {},
   "outputs": [],
   "source": [
    "# 2.3. Use the function runif to generate a vector of 10 random numbers between 0 and 1 and \n",
    "# print \"I found one!\" if at least one value is greater than 0.5 and \"I found none\" otherwise."
   ]
  },
  {
   "cell_type": "code",
   "execution_count": null,
   "metadata": {},
   "outputs": [],
   "source": [
    "# 2.3 Create a function that take as argument a number, n, and returs a vector with the n first number of the  Fibonacci sequences. "
   ]
  },
  {
   "cell_type": "markdown",
   "metadata": {},
   "source": [
    "# III. Basic plots\n",
    "scatterplots, histograms, boxplots"
   ]
  },
  {
   "cell_type": "code",
   "execution_count": 12,
   "metadata": {
    "scrolled": false
   },
   "outputs": [
    {
     "data": {
      "text/html": [
       "<table class=\"dataframe\">\n",
       "<caption>A data.frame: 6 × 2</caption>\n",
       "<thead>\n",
       "\t<tr><th></th><th scope=col>speed</th><th scope=col>dist</th></tr>\n",
       "\t<tr><th></th><th scope=col>&lt;dbl&gt;</th><th scope=col>&lt;dbl&gt;</th></tr>\n",
       "</thead>\n",
       "<tbody>\n",
       "\t<tr><th scope=row>1</th><td>4</td><td> 2</td></tr>\n",
       "\t<tr><th scope=row>2</th><td>4</td><td>10</td></tr>\n",
       "\t<tr><th scope=row>3</th><td>7</td><td> 4</td></tr>\n",
       "\t<tr><th scope=row>4</th><td>7</td><td>22</td></tr>\n",
       "\t<tr><th scope=row>5</th><td>8</td><td>16</td></tr>\n",
       "\t<tr><th scope=row>6</th><td>9</td><td>10</td></tr>\n",
       "</tbody>\n",
       "</table>\n"
      ],
      "text/latex": [
       "A data.frame: 6 × 2\n",
       "\\begin{tabular}{r|ll}\n",
       "  & speed & dist\\\\\n",
       "  & <dbl> & <dbl>\\\\\n",
       "\\hline\n",
       "\t1 & 4 &  2\\\\\n",
       "\t2 & 4 & 10\\\\\n",
       "\t3 & 7 &  4\\\\\n",
       "\t4 & 7 & 22\\\\\n",
       "\t5 & 8 & 16\\\\\n",
       "\t6 & 9 & 10\\\\\n",
       "\\end{tabular}\n"
      ],
      "text/markdown": [
       "\n",
       "A data.frame: 6 × 2\n",
       "\n",
       "| <!--/--> | speed &lt;dbl&gt; | dist &lt;dbl&gt; |\n",
       "|---|---|---|\n",
       "| 1 | 4 |  2 |\n",
       "| 2 | 4 | 10 |\n",
       "| 3 | 7 |  4 |\n",
       "| 4 | 7 | 22 |\n",
       "| 5 | 8 | 16 |\n",
       "| 6 | 9 | 10 |\n",
       "\n"
      ],
      "text/plain": [
       "  speed dist\n",
       "1 4      2  \n",
       "2 4     10  \n",
       "3 7      4  \n",
       "4 7     22  \n",
       "5 8     16  \n",
       "6 9     10  "
      ]
     },
     "metadata": {},
     "output_type": "display_data"
    },
    {
     "data": {
      "text/html": [
       "<strong>(Intercept):</strong> -17.5790948905109"
      ],
      "text/latex": [
       "\\textbf{(Intercept):} -17.5790948905109"
      ],
      "text/markdown": [
       "**(Intercept):** -17.5790948905109"
      ],
      "text/plain": [
       "(Intercept) \n",
       "  -17.57909 "
      ]
     },
     "metadata": {},
     "output_type": "display_data"
    },
    {
     "data": {
      "text/html": [
       "<strong>speed:</strong> 3.93240875912408"
      ],
      "text/latex": [
       "\\textbf{speed:} 3.93240875912408"
      ],
      "text/markdown": [
       "**speed:** 3.93240875912408"
      ],
      "text/plain": [
       "   speed \n",
       "3.932409 "
      ]
     },
     "metadata": {},
     "output_type": "display_data"
    },
    {
     "name": "stdout",
     "output_type": "stream",
     "text": [
      "  [1]    3.483385    4.696550    6.109634    7.722637    9.535558   11.548398\n",
      "  [7]   13.761157   16.173834   18.786430   21.598944   24.611377   27.823729\n",
      " [13]   31.235999   34.848188   38.660295   42.672321   46.884266   51.296129\n",
      " [19]   55.907911   60.719611   65.731230   70.942768   76.354224   81.965599\n",
      " [25]   87.776892   93.788104   99.999235  106.410284  113.021252  119.832138\n",
      " [31]  126.842943  134.053667  141.464309  149.074870  156.885349  164.895747\n",
      " [37]  173.106064  181.516299  190.126453  198.936526  207.946517  217.156426\n",
      " [43]  226.566255  236.176002  245.985667  255.995251  266.204754  276.614175\n",
      " [49]  287.223515  298.032774  309.041951  320.251047  331.660061  343.268994\n",
      " [55]  355.077845  367.086615  379.295304  391.703912  404.312438  417.120882\n",
      " [61]  430.129245  443.337527  456.745727  470.353846  484.161884  498.169840\n",
      " [67]  512.377715  526.785508  541.393220  556.200851  571.208400  586.415868\n",
      " [73]  601.823254  617.430559  633.237783  649.244925  665.451986  681.858965\n",
      " [79]  698.465864  715.272680  732.279415  749.486069  766.892642  784.499133\n",
      " [85]  802.305542  820.311871  838.518118  856.924283  875.530367  894.336370\n",
      " [91]  913.342291  932.548131  951.953890  971.559567  991.365162 1011.370677\n",
      " [97] 1031.576110 1051.981461 1072.586731 1093.391920\n"
     ]
    },
    {
     "data": {
      "image/png": "[encoded data removed]",
      "text/plain": [
       "plot without title"
      ]
     },
     "metadata": {
      "image/png": {
       "height": 420,
       "width": 420
      }
     },
     "output_type": "display_data"
    }
   ],
   "source": [
    "data(cars) # loads the cars datasets in memory\n",
    "head(cars) # shows the first rows of the cars data.frame\n",
    "\n",
    "# 3.1.  use the function plot to produce a scatterplot of the stopping distance as a function of the speed.\n",
    "\n",
    "\n",
    "# linear regression\n",
    "lm_fit <- lm(dist ~ speed, data = cars)\n",
    "coefficients <- coef(lm_fit)\n",
    "intercept <- coefficients[1]\n",
    "slope <- coefficients[2]\n",
    "intercept\n",
    "slope\n",
    "\n",
    "# 3.2. use the function abline to add a line in red, \n",
    "# the intercept and the slope of which are respectively defined by the variable intercept and slope.\n",
    "\n",
    "\n",
    "\n",
    "# polynomial regression of order 2\n",
    "lm_fit <- lm(dist ~ speed + I(speed^2), data = cars)\n",
    "coefficients <- coef(lm_fit)\n",
    "\n",
    "# 3.3. use the function curve add in the plot in blue the function defined as  \n",
    "# f(x) = coefficients[1] + coefficients[2] * x + coefficients[3] * x^2.\n",
    "# Hint: the option add = true in tu curve function to add a line to the existing plot.\n",
    "      \n",
    "\n"
   ]
  },
  {
   "cell_type": "code",
   "execution_count": 15,
   "metadata": {},
   "outputs": [
    {
     "data": {
      "text/html": [
       "<table class=\"dataframe\">\n",
       "<caption>A data.frame: 6 × 5</caption>\n",
       "<thead>\n",
       "\t<tr><th></th><th scope=col>Sepal.Length</th><th scope=col>Sepal.Width</th><th scope=col>Petal.Length</th><th scope=col>Petal.Width</th><th scope=col>Species</th></tr>\n",
       "\t<tr><th></th><th scope=col>&lt;dbl&gt;</th><th scope=col>&lt;dbl&gt;</th><th scope=col>&lt;dbl&gt;</th><th scope=col>&lt;dbl&gt;</th><th scope=col>&lt;fct&gt;</th></tr>\n",
       "</thead>\n",
       "<tbody>\n",
       "\t<tr><th scope=row>1</th><td>5.1</td><td>3.5</td><td>1.4</td><td>0.2</td><td>setosa</td></tr>\n",
       "\t<tr><th scope=row>2</th><td>4.9</td><td>3.0</td><td>1.4</td><td>0.2</td><td>setosa</td></tr>\n",
       "\t<tr><th scope=row>3</th><td>4.7</td><td>3.2</td><td>1.3</td><td>0.2</td><td>setosa</td></tr>\n",
       "\t<tr><th scope=row>4</th><td>4.6</td><td>3.1</td><td>1.5</td><td>0.2</td><td>setosa</td></tr>\n",
       "\t<tr><th scope=row>5</th><td>5.0</td><td>3.6</td><td>1.4</td><td>0.2</td><td>setosa</td></tr>\n",
       "\t<tr><th scope=row>6</th><td>5.4</td><td>3.9</td><td>1.7</td><td>0.4</td><td>setosa</td></tr>\n",
       "</tbody>\n",
       "</table>\n"
      ],
      "text/latex": [
       "A data.frame: 6 × 5\n",
       "\\begin{tabular}{r|lllll}\n",
       "  & Sepal.Length & Sepal.Width & Petal.Length & Petal.Width & Species\\\\\n",
       "  & <dbl> & <dbl> & <dbl> & <dbl> & <fct>\\\\\n",
       "\\hline\n",
       "\t1 & 5.1 & 3.5 & 1.4 & 0.2 & setosa\\\\\n",
       "\t2 & 4.9 & 3.0 & 1.4 & 0.2 & setosa\\\\\n",
       "\t3 & 4.7 & 3.2 & 1.3 & 0.2 & setosa\\\\\n",
       "\t4 & 4.6 & 3.1 & 1.5 & 0.2 & setosa\\\\\n",
       "\t5 & 5.0 & 3.6 & 1.4 & 0.2 & setosa\\\\\n",
       "\t6 & 5.4 & 3.9 & 1.7 & 0.4 & setosa\\\\\n",
       "\\end{tabular}\n"
      ],
      "text/markdown": [
       "\n",
       "A data.frame: 6 × 5\n",
       "\n",
       "| <!--/--> | Sepal.Length &lt;dbl&gt; | Sepal.Width &lt;dbl&gt; | Petal.Length &lt;dbl&gt; | Petal.Width &lt;dbl&gt; | Species &lt;fct&gt; |\n",
       "|---|---|---|---|---|---|\n",
       "| 1 | 5.1 | 3.5 | 1.4 | 0.2 | setosa |\n",
       "| 2 | 4.9 | 3.0 | 1.4 | 0.2 | setosa |\n",
       "| 3 | 4.7 | 3.2 | 1.3 | 0.2 | setosa |\n",
       "| 4 | 4.6 | 3.1 | 1.5 | 0.2 | setosa |\n",
       "| 5 | 5.0 | 3.6 | 1.4 | 0.2 | setosa |\n",
       "| 6 | 5.4 | 3.9 | 1.7 | 0.4 | setosa |\n",
       "\n"
      ],
      "text/plain": [
       "  Sepal.Length Sepal.Width Petal.Length Petal.Width Species\n",
       "1 5.1          3.5         1.4          0.2         setosa \n",
       "2 4.9          3.0         1.4          0.2         setosa \n",
       "3 4.7          3.2         1.3          0.2         setosa \n",
       "4 4.6          3.1         1.5          0.2         setosa \n",
       "5 5.0          3.6         1.4          0.2         setosa \n",
       "6 5.4          3.9         1.7          0.4         setosa "
      ]
     },
     "metadata": {},
     "output_type": "display_data"
    }
   ],
   "source": [
    "data(iris) # loads the iris datasets in memory\n",
    "head(iris) # shows the first rows of the cars data.frame"
   ]
  },
  {
   "cell_type": "code",
   "execution_count": null,
   "metadata": {},
   "outputs": [],
   "source": [
    "# 3.4. use the function histogram to visualize the distribution of Petal.Length."
   ]
  },
  {
   "cell_type": "code",
   "execution_count": null,
   "metadata": {},
   "outputs": [],
   "source": [
    "# 3.5. use the function boxplot to summarize the distribution of Petal.Length."
   ]
  },
  {
   "cell_type": "code",
   "execution_count": null,
   "metadata": {},
   "outputs": [],
   "source": [
    "# 3.6. use the function boxplot to the distribution of Petal.Length among different species."
   ]
  },
  {
   "cell_type": "code",
   "execution_count": null,
   "metadata": {},
   "outputs": [],
   "source": [
    "# 3.7. Make a scatter plot of the width of the sepal as a function of its width and \n",
    "# use a different colors and symbol to represent each specie.\n",
    "# Use the function legend to add a legend that explains the correspondence between the symbols and the species."
   ]
  },
  {
   "cell_type": "markdown",
   "metadata": {},
   "source": [
    "## Maps for data on grid\n",
    "To create maps, we will use the packages fields and maps.\n",
    "If not installed yet, use the fonction install.packages to install them."
   ]
  },
  {
   "cell_type": "code",
   "execution_count": 17,
   "metadata": {},
   "outputs": [
    {
     "name": "stderr",
     "output_type": "stream",
     "text": [
      "Loading required package: spam\n",
      "\n",
      "Loading required package: dotCall64\n",
      "\n",
      "Loading required package: grid\n",
      "\n",
      "Spam version 2.5-1 (2019-12-12) is loaded.\n",
      "Type 'help( Spam)' or 'demo( spam)' for a short introduction \n",
      "and overview of this package.\n",
      "Help for individual functions is also obtained by adding the\n",
      "suffix '.spam' to the function name, e.g. 'help( chol.spam)'.\n",
      "\n",
      "\n",
      "Attaching package: ‘spam’\n",
      "\n",
      "\n",
      "The following objects are masked from ‘package:base’:\n",
      "\n",
      "    backsolve, forwardsolve\n",
      "\n",
      "\n",
      "See https://github.com/NCAR/Fields for\n",
      " an extensive vignette, other supplements and source code \n",
      "\n"
     ]
    },
    {
     "name": "stdout",
     "output_type": "stream",
     "text": [
      "List of 3\n",
      " $ x: num [1:205] -109 -109 -109 -109 -109 ...\n",
      " $ y: num [1:119] 36.5 36.6 36.6 36.7 36.7 ...\n",
      " $ z: num [1:205, 1:119] 1627 1685 1690 1741 1906 ...\n"
     ]
    }
   ],
   "source": [
    "# loading the packages\n",
    "library(fields)\n",
    "library(maps)\n",
    "\n",
    "# loading the data\n",
    "data(COmonthlyMet)\n",
    "\n",
    "# CO.elevGrid contains elevation data over the Colorado\n",
    "# It is a list containing 3 elements\n",
    "# x, a vector of longitudes\n",
    "# y, a vector of latitudes\n",
    "# z, a matrix of elevations\n",
    "str(CO.elevGrid)"
   ]
  },
  {
   "cell_type": "code",
   "execution_count": 52,
   "metadata": {},
   "outputs": [
    {
     "data": {
      "image/png": "[encoded data removed]",
      "text/plain": [
       "plot without title"
      ]
     },
     "metadata": {
      "image/png": {
       "height": 420,
       "width": 420
      }
     },
     "output_type": "display_data"
    }
   ],
   "source": [
    "# 3.7. Use the fonction image.plot du package fields to plot a map of elevation.\n",
    "\n",
    "\n",
    "# 3.8. Add the US state boundaries to the plot with the fonction map from the package map.\n",
    "\n",
    "\n",
    "# 3.9 Add the major cities of Colorado (population over 200 000) with the funtion map.cities from the package map.\n",
    "\n",
    "\n"
   ]
  },
  {
   "cell_type": "code",
   "execution_count": null,
   "metadata": {},
   "outputs": [],
   "source": [
    "# 3.10 Make the plot as nice as possible.\n",
    "# Pay attention to colorscale, text size, simbols, colors, axis and labels."
   ]
  }
 ],
 "metadata": {
  "kernelspec": {
   "display_name": "R",
   "language": "R",
   "name": "ir"
  },
  "language_info": {
   "codemirror_mode": "r",
   "file_extension": ".r",
   "mimetype": "text/x-r-source",
   "name": "R",
   "pygments_lexer": "r",
   "version": "4.0.3"
  }
 },
 "nbformat": 4,
 "nbformat_minor": 4
}
